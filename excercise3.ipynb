{
  "nbformat": 4,
  "nbformat_minor": 0,
  "metadata": {
    "colab": {
      "name": "excercise3.ipynb",
      "provenance": []
    },
    "kernelspec": {
      "name": "python3",
      "display_name": "Python 3"
    },
    "language_info": {
      "name": "python"
    }
  },
  "cells": [
    {
      "cell_type": "code",
      "metadata": {
        "id": "1upC5eYoFVEd"
      },
      "source": [
        "import numpy as np \n",
        "\n",
        "class needleman_wunsch: \n",
        "\n",
        "  def __init__(self,X, Y, match, mismatch, gap): \n",
        "    self.sequence1 = X\n",
        "    self.sequence2 = Y\n",
        "    self.match_reward = match \n",
        "    self.mismatch_penalty = mismatch \n",
        "    self.gap_penalty = gap\n",
        "\n",
        "\n",
        "  def buildTable(self):\n",
        "    print(\"Sequence 1:\", self.sequence1)\n",
        "    print(\"Sequence 2:\", self.sequence2)\n",
        "      \n",
        "    #### Pt I: initialize (M+1) x (N+1) table \n",
        "    opt = np.zeros((len(self.sequence1)+1, len(self.sequence2)+1))  \n",
        "\n",
        "    #### Pt II: initialize first row/col of alignment table \n",
        "    for i in range(1, len(opt[0])):  # initialize first row \n",
        "      opt[0,i] = opt[0,i-1] - 1  # assign progressive gap penalities \n",
        "\n",
        "    for i in range(1, len(opt)):  # initialize first col\n",
        "      opt[i,0] = opt[i-1,0] - 1  # assign progressive gap penalties \n",
        "\n",
        "    #### Pt III: calculate optimal score in each cell\n",
        "    for i in range(1, len(opt)):  # iter across rows \n",
        "      for j in range(1, len(opt[0])):  # iter across cols \n",
        "          \n",
        "        vertical_score = opt[i-1, j] + self.gap_penalty  # calc vert score\n",
        "        horizontal_score = opt[i,j-1] + self.gap_penalty  # calc horiz score\n",
        "          \n",
        "        if self.sequence1[i-1] == self.sequence2[j-1]:  # check for match \n",
        "          diagonal_score = opt[i-1,j-1] + self.match_reward  # diag score \n",
        "        else:  # else is mismatch\n",
        "          diagonal_score = opt[i-1, j-1] + self.mismatch_penalty  # diag score\n",
        "\n",
        "        # select highest (optimal) score from curr iteration  \n",
        "        optimal_score = max([vertical_score, horizontal_score, diagonal_score])\n",
        "        # append highest score to [i,j]th mtx elt \n",
        "        opt[i,j] = optimal_score  \n",
        "\n",
        "    return opt\n",
        "\n",
        "\n",
        "  def TraceBack(self, table):\n",
        "    first = ''        # init empty string for alignment of X\n",
        "    second = ''       # init empty string for alignment of Y\n",
        "\n",
        "    x = len(self.sequence1)  # store len of first seq \n",
        "    y = len(self.sequence2)  # store len of second seq\n",
        "\n",
        "    while (x > 0) and (y > 0):\n",
        "      ##### Pt I: calculate vert/horiz/diag scores \n",
        "      curr_score = table[x,y]  # store curr score from curr iteration\n",
        "\n",
        "      vertical_score = table[x, y-1] + self.gap_penalty  # calc vert score \n",
        "      horizontal_score = table[x-1, y] + self.gap_penalty  # calc horizo score \n",
        "\n",
        "      if self.sequence1[x-1] == self.sequence2[y-1]:  # check for match \n",
        "        diagonal_score = table[x-1, y-1] + self.match_reward  # diag score\n",
        "      else:  # else is mismatch\n",
        "        diagonal_score = table[x-1, y-1] + self.mismatch_penalty  # diag score\n",
        "\n",
        "      #### Pt II: compare calc'd scores to curr_score \n",
        "      if (y > 0) and (curr_score == vertical_score):  # vert path\n",
        "        first = '-' + first  # update alignment 1\n",
        "        second = self.sequence2[y-1] + second  # update alignment 2 \n",
        "        x = x  # update x idx \n",
        "        y = y - 1  # update y idx\n",
        "\n",
        "      elif (x > 0) and (curr_score == horizontal_score):  # horiz path\n",
        "        first = self.sequence1[x-1] + first\n",
        "        second = '-' + second\n",
        "        x = x-1  # update x idx \n",
        "        y = y  # update y idx \n",
        "\n",
        "      elif (x> 0) and (y> 0) and (curr_score == diagonal_score):  # diag path\n",
        "        first = self.sequence1[x-1] + first  # update alignment 1 \n",
        "        second = self.sequence2[y-1] + second  # update alignment 2 \n",
        "        x = x-1  # update x idx\n",
        "        y = y-1  # update y idx\n",
        "\n",
        "    opt_alignment = np.array([[first], [second]])\n",
        "\n",
        "    return opt_alignment "
      ],
      "execution_count": 35,
      "outputs": []
    },
    {
      "cell_type": "code",
      "metadata": {
        "colab": {
          "base_uri": "https://localhost:8080/"
        },
        "id": "JgEnDcgM6ksV",
        "outputId": "80ab5b1d-38a7-4735-9183-9c55872c6329"
      },
      "source": [
        "nm = needleman_wunsch('aaa', 'abda', 1, -1, -1)\n",
        "\n",
        "test = nm.buildTable()\n",
        "nm.TraceBack(test)"
      ],
      "execution_count": 36,
      "outputs": [
        {
          "output_type": "stream",
          "name": "stdout",
          "text": [
            "Sequence 1: aaa\n",
            "Sequence 2: abda\n"
          ]
        },
        {
          "output_type": "execute_result",
          "data": {
            "text/plain": [
              "array([['aa-a'],\n",
              "       ['abda']], dtype='<U4')"
            ]
          },
          "metadata": {},
          "execution_count": 36
        }
      ]
    },
    {
      "cell_type": "code",
      "metadata": {
        "id": "JRY04Sko-ljm"
      },
      "source": [
        ""
      ],
      "execution_count": null,
      "outputs": []
    }
  ]
}