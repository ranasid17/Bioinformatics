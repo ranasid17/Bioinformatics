{
  "nbformat": 4,
  "nbformat_minor": 0,
  "metadata": {
    "colab": {
      "name": "ComplementingAStrandOfDNA.ipynb",
      "provenance": []
    },
    "kernelspec": {
      "name": "python3",
      "display_name": "Python 3"
    },
    "language_info": {
      "name": "python"
    }
  },
  "cells": [
    {
      "cell_type": "markdown",
      "metadata": {
        "id": "0bsVXB-jDkcu"
      },
      "source": [
        "# Problem\n",
        "\n",
        "In DNA strings, symbols 'A' and 'T' are complements of each other, as are 'C' and 'G'.\n",
        "\n",
        "The reverse complement of a DNA string **s** is the string **sc** formed by reversing the symbols of **s**, then taking the complement of each symbol (e.g., the reverse complement of \"GTCA\" is \"TGAC\").\n",
        "\n",
        "**Given**: A DNA string **s** of length at most 1000 bp.\n",
        "\n",
        "**Return**: The reverse complement **sc** of **s**."
      ]
    },
    {
      "cell_type": "code",
      "metadata": {
        "colab": {
          "base_uri": "https://localhost:8080/"
        },
        "id": "uflcn1ggD8Yv",
        "outputId": "dfde27d2-74f5-4033-bdcf-b98da39020b4"
      },
      "source": [
        "def reverse_complement(sequence): \n",
        "  complement = list()  # initialize empty list to hold complement\n",
        "  for i in range(len(sequence)): \n",
        "    if sequence[i] == 'A': \n",
        "      complement.append('T')\n",
        "    elif sequence[i] == 'T': \n",
        "      complement.append('A')\n",
        "    elif sequence[i] == 'C': \n",
        "      complement.append('G')\n",
        "    elif sequence[i] == 'G': \n",
        "      complement.append('C')\n",
        "\n",
        "  rev_complement = complement[::-1]\n",
        "  return rev_complement\n",
        "\n",
        "rc = reverse_complement('GTTCTGACCGTCCGCTTCCAAAAATCTGCGAATCCAGCTGCGTAGAAGATCTCCCGGACCAAGAGTACCGGTTATGACGTAGGCCCATCTCGGGTTCGCTGTGCCCGATATTATCCACATAGTACTGCCTATTCTGAAACTCAAAAATCAGCTTCTAAGAGGCAGCCTATGGTCCTAGCAACGGAATGCACCGCCTCACCCAGCTAAGCAGTTGCGCTTGTCAGGCAAAAGCAGTCGGATCGCATGTGGGAAGTTAATCTAATTAATATAATTCTAGGCTATCTTAGGCCTAAGTTATCACTTGAATGGGGGGCAGTTTCAAGAGTCGGCCGAAGGGGTTTCGTTGGAGACCGTGGCTTTCACCTACACGCCAATTCGCTATCTTAGTCTCTAGGTCCTGAGGCCCCGCCCTAAGTTTCACACGGAACCGGACCTGCAACGTATCACCGATATTGGACTGGGTGGAGTTGTGGTCGAATTATACGCACAAGGAGGCCAGGTAATAACTGGTTATCGTATTTTTCGCGCCTCAATAACGGAGCCATAATGAATAACTCGCTTTGCAAGTGGTGGTGAATTCTTACCGCACGAAGCAGACGACGGGTGTGATCGATATAGTGAGATTCCATTTGATACAGAGTTTTGATGCGAATCGATATGGCATGCGTGGTAAGGGGGTCCACCGTCACTAGAAACAAAGCAACTTCTGTCTGCTCAAAGATGACTCTCACAAGCGCAGCTGCAGTTCGCACACGCGGGGTCGTTATCCATGGTTACCTAGGAGGGTGAGGGTCGCTTCAACTACGAGCAACGTCTAGGACGATGATAGAGAAGTGTGCGTATGATGCGAGAGGTTTATTGATGTGGCAACC')\n",
        "print(''.join(rc)) "
      ],
      "execution_count": 8,
      "outputs": [
        {
          "output_type": "stream",
          "name": "stdout",
          "text": [
            "GGTTGCCACATCAATAAACCTCTCGCATCATACGCACACTTCTCTATCATCGTCCTAGACGTTGCTCGTAGTTGAAGCGACCCTCACCCTCCTAGGTAACCATGGATAACGACCCCGCGTGTGCGAACTGCAGCTGCGCTTGTGAGAGTCATCTTTGAGCAGACAGAAGTTGCTTTGTTTCTAGTGACGGTGGACCCCCTTACCACGCATGCCATATCGATTCGCATCAAAACTCTGTATCAAATGGAATCTCACTATATCGATCACACCCGTCGTCTGCTTCGTGCGGTAAGAATTCACCACCACTTGCAAAGCGAGTTATTCATTATGGCTCCGTTATTGAGGCGCGAAAAATACGATAACCAGTTATTACCTGGCCTCCTTGTGCGTATAATTCGACCACAACTCCACCCAGTCCAATATCGGTGATACGTTGCAGGTCCGGTTCCGTGTGAAACTTAGGGCGGGGCCTCAGGACCTAGAGACTAAGATAGCGAATTGGCGTGTAGGTGAAAGCCACGGTCTCCAACGAAACCCCTTCGGCCGACTCTTGAAACTGCCCCCCATTCAAGTGATAACTTAGGCCTAAGATAGCCTAGAATTATATTAATTAGATTAACTTCCCACATGCGATCCGACTGCTTTTGCCTGACAAGCGCAACTGCTTAGCTGGGTGAGGCGGTGCATTCCGTTGCTAGGACCATAGGCTGCCTCTTAGAAGCTGATTTTTGAGTTTCAGAATAGGCAGTACTATGTGGATAATATCGGGCACAGCGAACCCGAGATGGGCCTACGTCATAACCGGTACTCTTGGTCCGGGAGATCTTCTACGCAGCTGGATTCGCAGATTTTTGGAAGCGGACGGTCAGAAC\n"
          ]
        }
      ]
    }
  ]
}