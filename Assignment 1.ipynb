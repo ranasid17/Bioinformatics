{
 "cells": [
  {
   "cell_type": "markdown",
   "metadata": {},
   "source": [
    "# Problem 1: Counting DNA Nucleotides\n",
    "\n",
    "A **string** is simply an ordered collection of symbols selected from some **alphabet** and formed into a word; the **length** of a string is the number of symbols that it contains.\n",
    "\n",
    "An example of a length 21 DNA string (whose alphabet contains the symbols 'A', 'C', 'G', and 'T') is \"ATGCTTCAGAAAGGTCTTACG.\"\n",
    "\n",
    "    Given: A DNA string *s* of length at most 1000 nt.\n",
    "\n",
    "    Return: Four integers (separated by spaces) counting the number of times that the symbols A, C, G, and T \n",
    "    occur in s\n",
    "\n",
    "## Sample Dataset\n",
    "\n",
    "    Given: AGCTTTTCATTCTGACTGCAACGGGCAATATGTCTCTGTGTGGATTAAAAAAAGAGTGTCTGATAGCAGC\n",
    "    Return: 20 12 17 21"
   ]
  },
  {
   "cell_type": "code",
   "execution_count": 16,
   "metadata": {},
   "outputs": [
    {
     "name": "stdout",
     "output_type": "stream",
     "text": [
      "233   232   245   213\n"
     ]
    }
   ],
   "source": [
    "from collections import Counter\n",
    "\n",
    "# open file containing DNA string \n",
    "sequence = open(r'/Users/Sid/Downloads/rosalind_dna.txt').read() #edit filepath to your computer\n",
    "\n",
    "# count instances of each DNA base in sequence \n",
    "countA = sequence.count('A') \n",
    "countT = sequence.count('T')\n",
    "countC = sequence.count('C')\n",
    "countG = sequence.count('G')\n",
    "\n",
    "# print instances of each base \n",
    "print(countA, \" \", countC, \" \", countG, \" \", countT)"
   ]
  },
  {
   "cell_type": "markdown",
   "metadata": {},
   "source": [
    "# Problem 2: Transcribing DNA into RNA \n",
    "\n",
    "An RNA string is a string formed from the alphabet containing 'A', 'C', 'G', and 'U'.\n",
    "\n",
    "Given a DNA string *t* corresponding to a coding strand, its transcribed RNA string *u* is formed by replacing all occurrences of 'T' in *t* with 'U' in *u*.\n",
    "\n",
    "    Given: A DNA string *t* having length at most 1000 nt.\n",
    "    Return: The transcribed RNA string of *t*.\n",
    "\n",
    "## Sample Dataset\n",
    "    Given: GATGGAACTTGACTACGTAAATT\n",
    "    Return: GAUGGAACUUGACUACGUAAAUU"
   ]
  },
  {
   "cell_type": "code",
   "execution_count": 34,
   "metadata": {},
   "outputs": [
    {
     "name": "stdout",
     "output_type": "stream",
     "text": [
      "RNA sequence for associated DNA strand is:  GCCGGGGUUUGUGCCGCCAUCCGCACGAGCAUAUAUUUGCUUGCAACAACGCAAAACUUUACCACUUACAUCUGACUUCAAGAUAGGUAGUACCCUAAGAGCAUUGGCGAUUGUCGCGGACAUCCAAUAAAUCCGGAGUAGCGAACCUGACGCGAACUUAGGUUUCCGCGGACGCUAUGAUUAUAGAGUAAAACGCUAUGCCGCCGGCCUUUGUGCGGUGGCAUUACUACCUGCAAGAUCGUUUUGAGCCAUGCCAGUGUACACGUCGUGCCAUUUGAGUUGACCCCCAGGGCAGGUACGUGAACCACAGAGGGUCACGUGAUUGUAUGCCCAUAAUAUAGUAGCCCUCAUGAAGUUGGGAGAGGUGCCGUGAACCAUAAUACGGGGGCUCAUGGAGUGGCAUAGGCUAAAGUUAAGUCGUGGUAUGUAGGUUGUCAGUGGCCUAAGGCUAGGUACCAAUCAACUGUCGGACGAACGGAUUCGAAUUAUGACUAUCAUUUUUUUUUCUCUCGACGCCUCCACAAAUGUCAUCCAUGUACAUUGCCCCGGCCUUCUGCCACGGAUCGAGCAGGAACCUUGAGCUCCCGAAGGAUUUGCCUUCGUUCAACUUCUACGUGCUCGCCGCUGGCAUACCCAAAACAUACUACCUCCGUACGUCCAGUCUCACUGCAAUGUCCUUGCUAGUAAGUUCAUUCAACGAUAUCGGCGUGGUGAUAAGUCUAGGUUGUUAAUGCCAUCAUUCAACUAUGCGUCUAAUUUACGCGUGGACAUGGCACUUAUAAAUACAACAUCGUAUUAAUCCUGAAUAGCACUUGUUUACUAUAAACAUGUGUUGGGAAUAUAUCUCACUGACCCGAUGCAUCCGUGCGCCCGAAAGGGUGGUGUAAUACCUUAGUAACCAGAAGGAUAGUCAAA\n",
      "\n"
     ]
    }
   ],
   "source": [
    "# open file containing DNA string \n",
    "dnaSeq = open(r'/Users/Sid/Downloads/rosalind_rna.txt').read() #edit file path to your computer\n",
    "# replace each instance of 'T' with 'U' \n",
    "rnaSeq = dnaSeq.replace(\"T\", \"U\") \n",
    "\n",
    "print(\"RNA sequence for associated DNA strand is: \", rnaSeq)"
   ]
  },
  {
   "cell_type": "markdown",
   "metadata": {},
   "source": [
    "# Problem 3: Complementing a Strand of DNA\n",
    "\n",
    "In DNA strings, symbols 'A' and 'T' are complements of each other, as are 'C' and 'G'. The reverse complement of a DNA string, *s*, the string, *s(c)*, formed by reversing the symbols of *s*, then taking the complement of each symbol (e.g., the reverse complement of \"GTCA\" is \"TGAC\").\n",
    "\n",
    "    Given: A DNA string *s* of length at most 1000 bp.\n",
    "    Return: The reverse complement *s(c)* of s.\n",
    "\n",
    "## Sample Dataset\n",
    "    Given: AAAACCCGGT\n",
    "    Return: ACCGGGTTTT"
   ]
  },
  {
   "cell_type": "code",
   "execution_count": 83,
   "metadata": {},
   "outputs": [
    {
     "name": "stdout",
     "output_type": "stream",
     "text": [
      "Enter seq: ATTCTAGGCATTTTTAAAGAGTCGTACTGGAAGCTCTTATTCACGAGGGCGTATGTAGCCTAACTACCGAAACTCAGACAAGGTGCCGGAGTTGAGGCCAGTGGGATATTTGTATACAAAGATCAGGAGCAGTTAGCGGGTACCCAACAATCCAATTATTACGACAGAAAGGGAGAACCACCCTTGAAGGTCGACAAGGTGTAAGCGACGCAAAGTGGTCTTGCTTTAGAATTATGAGCCTCATAATGACCTGGGAGAGGGCTGGACTTTCTATATACTTGTCAACGGCACAACTATTACATCGCCAAAGCGCTGCTTGCAAAGCCTGGCTGCCAACTTAACGATCGTTGGACACACGCTACTTCTTTAGAGCGAGCGAGCCCAAATACTGGAGTTGTGGGTGACGGTTCATATTAGATTGCAGAAAGCGCTAGATCCCGCCCGGGCTGTCATGGCGTGGTGTTAGGTCATAACCGACTATCTGGGAGATCCTTACTGGGCGGATGGCCAAGATACGTATTTGCGAGTTGATGGCCGAGTTGCATCGACATCTATGACGGTAGGTGGCACCAGAATAGTGCACGACCGATATGTAAGTCGTTGGACGCAGGGTAGGGAAAGGGTAGGCGCCCTTAGTCGGCTACCGGTTCAGGAACGTGATGGGTGATATCGAGCTTTCCGGCTTTCAGAACACGTTCTTGTGGTCGCGCCTGTCCATACTGGTCGCTAACGTTCCGAAAGGGGCAGAATGGAACGGAGGAGAGAGACTAAATATAAGATGCCCCCCTTTTACTCACGTGAGCGTAGCCGCGTATACGACGGGCTAGAGGCCCCCGGAACAAATCAACGTTGGCAGCTCTAGTTCAAGTACACAGCGCTCTTAG\n",
      "Rev compl:  CTAAGAGCGCTGTGTACTTGAACTAGAGCTGCCAACGTTGATTTGTTCCGGGGGCCTCTAGCCCGTCGTATACGCGGCTACGCTCACGTGAGTAAAAGGGGGGCATCTTATATTTAGTCTCTCTCCTCCGTTCCATTCTGCCCCTTTCGGAACGTTAGCGACCAGTATGGACAGGCGCGACCACAAGAACGTGTTCTGAAAGCCGGAAAGCTCGATATCACCCATCACGTTCCTGAACCGGTAGCCGACTAAGGGCGCCTACCCTTTCCCTACCCTGCGTCCAACGACTTACATATCGGTCGTGCACTATTCTGGTGCCACCTACCGTCATAGATGTCGATGCAACTCGGCCATCAACTCGCAAATACGTATCTTGGCCATCCGCCCAGTAAGGATCTCCCAGATAGTCGGTTATGACCTAACACCACGCCATGACAGCCCGGGCGGGATCTAGCGCTTTCTGCAATCTAATATGAACCGTCACCCACAACTCCAGTATTTGGGCTCGCTCGCTCTAAAGAAGTAGCGTGTGTCCAACGATCGTTAAGTTGGCAGCCAGGCTTTGCAAGCAGCGCTTTGGCGATGTAATAGTTGTGCCGTTGACAAGTATATAGAAAGTCCAGCCCTCTCCCAGGTCATTATGAGGCTCATAATTCTAAAGCAAGACCACTTTGCGTCGCTTACACCTTGTCGACCTTCAAGGGTGGTTCTCCCTTTCTGTCGTAATAATTGGATTGTTGGGTACCCGCTAACTGCTCCTGATCTTTGTATACAAATATCCCACTGGCCTCAACTCCGGCACCTTGTCTGAGTTTCGGTAGTTAGGCTACATACGCCCTCGTGAATAAGAGCTTCCAGTACGACTCTTTAAAAATGCCTAGAAT\n"
     ]
    }
   ],
   "source": [
    "# open file containing original DNA string \n",
    "origSeq = open(r'/Users/Sid/Downloads/rosalind_revc.txt').read() #edit file path to your computer\n",
    "\n",
    "complement = {'A': 'T', 'C': 'G', 'G': 'C', 'T': 'A'} # define complement bases \n",
    "\n",
    "reverse_complement = \"\".join(complement.get(base, base) for base in reversed(origSeq)) # swap bases \n",
    "\n",
    "print(\"Reverse complement strand: \", reverse_complement)"
   ]
  },
  {
   "cell_type": "markdown",
   "metadata": {},
   "source": [
    "# Problem 4: Rabbits and Recurrence Relations\n",
    "\n",
    "A **sequence** is an ordered collection of objects (usually numbers), which are allowed to repeat. Sequences can be finite or infinite. Two examples are the finite sequence (π,−2‾√,0,π) and the infinite sequence of odd numbers (1,3,5,7,9,…). We use the notation an a(n) to represent the n-th term of a sequence.\n",
    "\n",
    "A **recurrence relation** is a way of defining the terms of a sequence with respect to the values of previous terms. In the case of Fibonacci's rabbits from the introduction, any given month will contain the rabbits that were alive the previous month, plus any new offspring. A key observation is that the number of offspring in any month is equal to the number of rabbits that were alive two months prior. As a result, if F(n) represents the number of rabbit pairs alive after the n-th month, then we obtain the **Fibonacci sequence** having terms F(n) that are defined by the recurrence relation F(n)=F(n)−1+F(n)−2 (with F1=F2=1 to initiate the sequence). Although the sequence bears Fibonacci's name, it was known to Indian mathematicians over two millennia ago.\n",
    "\n",
    "When finding the n-th term of a sequence defined by a recurrence relation, we can simply use the recurrence relation to generate terms for progressively larger values of n. This problem introduces us to the computational technique of **dynamic programming**, which successively builds up solutions by using the answers to smaller cases.\n",
    "\n",
    "    Given: Positive integers n≤40 and k≤5.\n",
    "    Return: The total number of rabbit pairs that will be present after n months, if we begin with 1 pair and in each generation, every pair of reproduction-age rabbits produces a litter of k rabbit pairs (instead of only 1 pair).\n",
    "\n",
    "## Sample Dataset\n",
    "    Given: 5 3\n",
    "    Return: 19"
   ]
  },
  {
   "cell_type": "code",
   "execution_count": 88,
   "metadata": {},
   "outputs": [
    {
     "name": "stdout",
     "output_type": "stream",
     "text": [
      "22906492245\n"
     ]
    }
   ],
   "source": [
    "def rabbits(n, k):\n",
    "   if n == 0: # base case \n",
    "       return 0\n",
    "   if n == 1: # another base case \n",
    "       return 1\n",
    "   else: # recursive case \n",
    "       return rabbits(n-1, k) + k*rabbits(n-2, k)\n",
    "\n",
    "print(rabbits(36,2))"
   ]
  },
  {
   "cell_type": "code",
   "execution_count": 89,
   "metadata": {},
   "outputs": [
    {
     "name": "stdout",
     "output_type": "stream",
     "text": [
      "Rosalind_1370\n",
      "52.597403\n"
     ]
    }
   ],
   "source": [
    "origSeq = open(r'/Users/Sid/Downloads/rosalind_revc.txt').read() #edit file path to your computer\n",
    "\n",
    "\n",
    "\n",
    "with open('/Users/Sid/Downloads/rosalind_gc.txt','r') as file:\n",
    "    content = file.read().splitlines()\n",
    "final, lst = [], []\n",
    "for i in range(len(content)):\n",
    "    if content[i][0] == '>':\n",
    "        final.append(lst)\n",
    "        lst = [content[i][1:]]\n",
    "    else:\n",
    "        lst.append(content[i])\n",
    "final.append(lst)\n",
    "final.pop(0)\n",
    "Final = []\n",
    "for i in range(len(final)):\n",
    "    DNA = ''\n",
    "    for j in range(1,len(final[i])):\n",
    "        DNA += final[i][j]\n",
    "    Final.append([final[i][0],DNA])\n",
    "GC_content = []\n",
    "for i in range(len(Final)):\n",
    "    record = \"%.6f\" % round((Final[i][1].count('C') + Final[i][1].count('G')) / len(Final[i][1])*100, 6)\n",
    "    GC_content.append([record, Final[i][0]])\n",
    "\n",
    "Max = max(GC_content)\n",
    "\n",
    "print(Max[1])\n",
    "print(Max[0])"
   ]
  },
  {
   "cell_type": "code",
   "execution_count": 95,
   "metadata": {},
   "outputs": [
    {
     "name": "stdout",
     "output_type": "stream",
     "text": [
      "495\n"
     ]
    }
   ],
   "source": [
    "from sys import stdin\n",
    "\n",
    "def hamm(dna1, dna2):\n",
    "  answer = 0\n",
    "  for i in range(0, len(dna1)):\n",
    "    if not dna1[i] == dna2[i]:\n",
    "      answer = answer + 1\n",
    "  return answer\n",
    "\n",
    "def main():\n",
    "  data = ['CTGTGATCTTAAAGATCCCAATACAATCGGAATCAGTTTGAGTCGAGGCAAACAAGGATGTACTAAAGACATGCCTTAACTACCTATAGCTGCAGGGTCAATAAGCCGTGCGTGGAGTAACTTGTGATGTCGGGCCGAGTTTCAATGTATTCTGCAAATTCTTTGACGACCTGAGTCTTTAACGTTGTTAGAACCGAACGCATCAGACTCCAATCTGATTATCGAAAGATGGAATGCGCTAATAAATCCGGGGAGTGGATTTAGCGTTCACACTAGCGGTTGTGCGCGAGCTCTACCCCGGTAAATCACCTGCGGAAGGTTGCCCGACGTGTCAAAAAAAGCAGCGGAGGGAACGTGCCGTTCGATCCGACACGAAGTTTCGATCGCCAACTTAAGACTGACAGGACGCGTGTTAGATCCCCGATTATATAGGACCGTCCCTCCGAACATGTGCCCGTCTAAAAAACAGATGGTTCATGGCCCTTAAAGGGCTGGTTGAATTGCGATCAGAATGTGCGCTCATCACCTCATACACTTTTCATGAGGTGGTAGTATTGTGATTGCAACCGGATTAGACAGAGCGAAAGGAATACTAACTTTGTTAGCCTGGACTCAGTAGATGTAATTCGTGTCAAGAGCTCTGCTAGCCTCGAATCGGACACTATTGCCGAAAGAAACAGTTACCGCAAGGCATCATCACAATGGGCGGATAATTGTCAACGGGCCACCGACAGGTTTTGCGCCTAGAAGGTTGGACTACTCCGCACGCTGGATGAGCAATGTCGGGAACGGCTTGGGAGAAGATCAGTAAGCAGGTCGTCTGCAACAGGCCCCGTTTCCTTCGTCATGGATATCTAGTTACTACTGTGGTTTGAAGTTGGTGAGGGAGCCGCACAGAGTACCGGTTCCGGATGCCTCGCTCGCCTCGTTTTGTTAGTAACTCTTAACATAACGAAT',\n",
    "          'ATGGAACCGTAGGAGACATTACTAACTGGTACTCCGTTGCTGGGGAGGGCGAGAAGATTCTACTCAAGTTCGTGCTGACGGATCTAGCTACGCGCGTACACGGGGCCGAACAAGGCGTAACACCGAATATCGGTACCACCTTCACGGAGGCTTACAGACTTGACGGGGTAATGAGTGCTTGACGTGTGTATCGGTGAGCAAAAGATGCTCCACCCTAGTCGGGTGTAGCTAGTACACAATCGAAAATCCGGAGAGTTCGTGAGGCTTTACAATTACCGTTGATTTCGGACCGCGTGCATCAGACAGCCGCTGCAGGACTACGCCCGACCTGTGTACACACTACGAGGTGAGAGAGTGTGGCTCGATTCGACGAGAGGTCTGGACCGTTTGCTTGCCAATAACAGCGCCGTTTAACCATGTACGAATATGTATGAGCGACGCGCGTAAGATGTAAGCAATGAGCCAGCTTTGTGATAATTGCCATGAAAAGGTTGTCTGGATTACGATCGGAAGGTACACTCTTGACAACGTATAAGGGGATATCGCTGCTGTTTTTCCTCTTGCGTGTGTACAAGCTTGATGCGTTGTGGAAAAATCCTGGTCACTAGGGAATCTTTAGACATAATTCCTTTAGTGAGCGCTGGTACTCTCAGGCCACCCACGCTTGCCGGACTAAACATTCCACGAAGTGTGCACTAACTGCGCGTGCATACTCGAGTATCCGTTTACGGCGGCTATACAGCCATAGGCGTCTATGAACTTCTAACCGTGGCTCGCGAACCTCCAGGAAAGCTGGTGACGGAATCTTCGATCCCCTCAACTGGCTCAGGCAGCGATTTCATCGGGATGGACACAATTGTTATACCCTTAGCTAAAGATGGTGAAACTTGACATCGATCTGACCGAGCAGGATGGCTGACAATCGCTCTATTCTTAGATTCACTGGGGATGAGCCAA'\n",
    "         ]\n",
    "  for line in stdin:\n",
    "    data.append(line.strip())\n",
    "  dna1 = data[0]\n",
    "  dna2 = data[1]\n",
    "  answer = hamm(dna1, dna2)\n",
    "  print(answer)\n",
    "\n",
    "if __name__ == \"__main__\":\n",
    "  main()"
   ]
  }
 ],
 "metadata": {
  "kernelspec": {
   "display_name": "Python 3",
   "language": "python",
   "name": "python3"
  },
  "language_info": {
   "codemirror_mode": {
    "name": "ipython",
    "version": 3
   },
   "file_extension": ".py",
   "mimetype": "text/x-python",
   "name": "python",
   "nbconvert_exporter": "python",
   "pygments_lexer": "ipython3",
   "version": "3.8.5"
  }
 },
 "nbformat": 4,
 "nbformat_minor": 4
}
