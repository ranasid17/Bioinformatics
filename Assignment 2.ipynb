{
 "cells": [
  {
   "cell_type": "markdown",
   "metadata": {},
   "source": [
    "## Problem #7\n",
    "\n",
    "Probability is the mathematical study of randomly occurring phenomena. We will model such a phenomenon with a random variable, which is simply a variable that can take a number of different distinct outcomes depending on the result of an underlying random process.\n",
    "\n",
    "For example, say that we have a bag containing 3 red balls and 2 blue balls. If we let X represent the random variable corresponding to the color of a drawn ball, then the probability of each of the two outcomes is given by Pr(X=red)=35 and Pr(X=blue)=25.\n",
    "\n",
    "Random variables can be combined to yield new random variables. Returning to the ball example, let Y model the color of a second ball drawn from the bag (without replacing the first ball). The probability of Y being red depends on whether the first ball was red or blue. To represent all outcomes of X and Y, we therefore use a probability tree diagram. This branching diagram represents all possible individual probabilities for X and Y\n",
    "Y, with outcomes at the endpoints (\"leaves\") of the tree. The probability of any outcome is given by the product of probabilities along the path from the beginning of the tree; see Figure 2 for an illustrative example.\n",
    "\n",
    "An event is simply a collection of outcomes. Because outcomes are distinct, the probability of an event can be written as the sum of the probabilities of its constituent outcomes. For our colored ball example, let A be the event \"Y is blue.\" Pr(A) is equal to the sum of the probabilities of two different outcomes: Pr(X=blue and Y=blue)+Pr(X=red and Y=blue), or 310+110=25.\n",
    "    \n",
    "    Given: Three positive integers k, m, and n, representing a population containing k+m+n organisms: k individuals are homozygous dominant for a factor, m are heterozygous, and n are homozygous recessive.\n",
    "\n",
    "    Return: The probability that two randomly selected mating organisms will produce an individual possessing a dominant allele (and thus displaying the dominant phenotype). Assume that any two organisms can mate.\n",
    "\n",
    "## Sample Dataset\n",
    "    2 2 2\n",
    "## Sample Output\n",
    "    0.78333"
   ]
  },
  {
   "cell_type": "code",
   "execution_count": 9,
   "metadata": {},
   "outputs": [
    {
     "name": "stdout",
     "output_type": "stream",
     "text": [
      "0.745920745920746\n"
     ]
    }
   ],
   "source": [
    "# open file containing three ints \n",
    "sequence = open(r'/Users/Sid/Downloads/rosalind_dna.txt').read()\n",
    "\n",
    "# input organism numbers \n",
    "k = 28 # homozygous dominant \n",
    "m = 21 # heterozygous \n",
    "n = 29 # homozygous recessive \n",
    "\n",
    "# calculate probability of having a homozygous recessive phenotype \n",
    "pFail = (m/(k+m+n))*((m-1)/(k+m+n-1))*(1/4) + (m/(k+m+n))*(n/(k+m+n-1))*(1/2) + (n/(k+m+n))*(m/(k+m+n-1))*(1/2) + (n/(k+m+n))*((n-1)/(k+m+n-1))\n",
    "# probability of not having homozygous recessive phenotype is (1-pFail)\n",
    "pSuccess = 1-pFail\n",
    "# this is the value to return \n",
    "print(pSuccess)"
   ]
  },
  {
   "cell_type": "markdown",
   "metadata": {},
   "source": [
    "## Problem #8\n",
    "\n",
    "The 20 commonly occurring amino acids are abbreviated by using 20 letters from the English alphabet (all letters except for B, J, O, U, X, and Z). Protein strings are constructed from these 20 symbols. Henceforth, the term genetic string will incorporate protein strings along with DNA strings and RNA strings.\n",
    "\n",
    "The RNA codon table dictates the details regarding the encoding of specific codons into the amino acid alphabet.\n",
    "\n",
    "    Given: An RNA string *s* corresponding to a strand of mRNA (of length at most 10 kbp).\n",
    "    Return: The protein string encoded by *s*.\n",
    "\n",
    "## Sample Dataset\n",
    "    AUGGCCAUGGCGCCCAGAACUGAGAUCAAUAGUACCCGUAUUAACGGGUGA\n",
    "## Sample Output\n",
    "    MAMAPRTEINSTRING"
   ]
  },
  {
   "cell_type": "code",
   "execution_count": 41,
   "metadata": {},
   "outputs": [
    {
     "name": "stdout",
     "output_type": "stream",
     "text": [
      "['M', 'D', 'V', 'P', 'D', 'T', 'W', 'Q', 'G', 'Y', 'T', 'Q', 'D', 'R', 'Y', 'L', 'R', 'P', 'H', 'V', 'T', 'P', 'N', 'M', 'L', 'P', 'T', 'T', 'P', 'S', 'A', 'C', 'V', 'G', 'Q', 'E', 'L', 'K', 'E', 'Y', 'S', 'I', 'K', 'P', 'S', 'E', 'R', 'R', 'R', 'G', 'R', 'V', 'M', 'T', 'V', 'R', 'R', 'G', 'G', 'R', 'K', 'M', 'S', 'Y', 'F', 'S', 'P', 'E', 'T', 'Y', 'M', 'P', 'F', 'W', 'V', 'Q', 'T', 'C', 'R', 'L', 'Y', 'L', 'L', 'S', 'A', 'V', 'I', 'S', 'L', 'R', 'P', 'A', 'F', 'G', 'T', 'S', 'G', 'N', 'D', 'A', 'H', 'R', 'D', 'S', 'F', 'I', 'R', 'T', 'P', 'S', 'F', 'S', 'N', 'P', 'L', 'M', 'G', 'E', 'E', 'T', 'D', 'D', 'R', 'S', 'S', 'Q', 'N', 'L', 'L', 'P', 'T', 'K', 'S', 'W', 'A', 'A', 'K', 'I', 'L', 'S', 'S', 'A', 'W', 'A', 'W', 'Q', 'A', 'T', 'T', 'L', 'R', 'P', 'H', 'R', 'Y', 'G', 'H', 'P', 'Q', 'Q', 'C', 'P', 'V', 'I', 'P', 'D', 'K', 'T', 'P', 'I', 'L', 'L', 'S', 'V', 'Q', 'L', 'R', 'E', 'V', 'L', 'R', 'I', 'L', 'V', 'K', 'G', 'T', 'V', 'E', 'P', 'R', 'E', 'I', 'L', 'F', 'R', 'M', 'A', 'Q', 'V', 'D', 'G', 'P', 'G', 'V', 'C', 'R', 'F', 'T', 'Y', 'D', 'N', 'R', 'T', 'V', 'R', 'L', 'P', 'T', 'E', 'S', 'I', 'W', 'V', 'Y', 'V', 'C', 'S', 'A', 'C', 'K', 'E', 'G', 'A', 'P', 'A', 'T', 'N', 'G', 'L', 'T', 'D', 'C', 'S', 'R', 'N', 'H', 'F', 'Q', 'E', 'H', 'G', 'E', 'Q', 'R', 'F', 'C', 'A', 'H', 'V', 'H', 'H', 'G', 'R', 'Q', 'R', 'A', 'R', 'S', 'M', 'A', 'V', 'L', 'L', 'C', 'Y', 'L', 'R', 'D', 'S', 'I', 'A', 'S', 'N', 'L', 'S', 'H', 'S', 'T', 'T', 'Y', 'C', 'S', 'T', 'R', 'I', 'F', 'R', 'N', 'Q', 'S', 'E', 'I', 'L', 'L', 'T', 'V', 'S', 'S', 'P', 'A', 'V', 'T', 'H', 'F', 'C', 'V', 'K', 'K', 'Y', 'S', 'S', 'L', 'P', 'T', 'W', 'A', 'I', 'G', 'G', 'C', 'C', 'R', 'Q', 'V', 'V', 'V', 'I', 'T', 'V', 'P', 'N', 'V', 'Q', 'T', 'D', 'L', 'V', 'V', 'G', 'T', 'I', 'E', 'D', 'V', 'T', 'M', 'T', 'T', 'K', 'E', 'A', 'K', 'H', 'H', 'R', 'R', 'R', 'V', 'A', 'H', 'Q', 'T', 'A', 'V', 'C', 'R', 'H', 'M', 'P', 'S', 'G', 'Y', 'R', 'A', 'K', 'K', 'V', 'S', 'L', 'S', 'Q', 'V', 'D', 'Q', 'F', 'R', 'A', 'W', 'R', 'P', 'R', 'N', 'R', 'L', 'Q', 'L', 'A', 'T', 'T', 'T', 'V', 'V', 'S', 'R', 'P', 'S', 'L', 'A', 'R', 'T', 'E', 'S', 'S', 'E', 'T', 'R', 'A', 'G', 'K', 'S', 'S', 'S', 'Y', 'Y', 'T', 'T', 'G', 'I', 'R', 'V', 'A', 'N', 'R', 'A', 'H', 'I', 'G', 'V', 'T', 'A', 'F', 'H', 'S', 'G', 'H', 'R', 'G', 'F', 'N', 'K', 'D', 'L', 'P', 'D', 'V', 'A', 'R', 'P', 'T', 'K', 'S', 'A', 'G', 'V', 'L', 'M', 'T', 'R', 'T', 'S', 'S', 'V', 'Q', 'G', 'C', 'D', 'N', 'R', 'H', 'P', 'A', 'L', 'T', 'A', 'R', 'F', 'L', 'V', 'R', 'Y', 'K', 'P', 'V', 'I', 'L', 'R', 'T', 'S', 'R', 'M', 'A', 'L', 'R', 'N', 'Q', 'P', 'S', 'N', 'V', 'V', 'V', 'C', 'S', 'K', 'V', 'F', 'C', 'R', 'L', 'L', 'Y', 'I', 'M', 'S', 'S', 'R', 'Q', 'Q', 'S', 'H', 'R', 'Q', 'H', 'K', 'V', 'T', 'P', 'Y', 'A', 'Y', 'V', 'P', 'T', 'T', 'S', 'G', 'P', 'S', 'F', 'S', 'R', 'G', 'D', 'P', 'S', 'K', 'G', 'L', 'S', 'M', 'F', 'R', 'C', 'P', 'R', 'S', 'I', 'A', 'P', 'R', 'S', 'L', 'G', 'S', 'N', 'A', 'V', 'K', 'S', 'L', 'K', 'S', 'G', 'R', 'V', 'L', 'M', 'E', 'E', 'R', 'H', 'I', 'P', 'W', 'N', 'L', 'C', 'V', 'S', 'V', 'Q', 'G', 'P', 'L', 'I', 'L', 'E', 'F', 'R', 'I', 'V', 'L', 'G', 'T', 'E', 'A', 'D', 'R', 'A', 'S', 'R', 'L', 'H', 'W', 'P', 'D', 'R', 'G', 'P', 'E', 'L', 'I', 'L', 'R', 'Q', 'G', 'M', 'P', 'Q', 'V', 'E', 'T', 'P', 'S', 'P', 'R', 'T', 'S', 'Q', 'G', 'G', 'S', 'M', 'S', 'T', 'T', 'R', 'K', 'V', 'N', 'V', 'I', 'H', 'P', 'N', 'T', 'L', 'P', 'T', 'A', 'R', 'T', 'V', 'V', 'R', 'L', 'R', 'L', 'G', 'G', 'Y', 'G', 'P', 'H', 'S', 'H', 'F', 'L', 'L', 'E', 'V', 'V', 'L', 'S', 'W', 'V', 'D', 'W', 'I', 'R', 'L', 'L', 'P', 'L', 'I', 'R', 'Q', 'R', 'L', 'P', 'V', 'R', 'R', 'K', 'L', 'L', 'D', 'A', 'T', 'G', 'N', 'C', 'Y', 'M', 'T', 'H', 'L', 'I', 'W', 'N', 'I', 'L', 'V', 'P', 'G', 'S', 'C', 'P', 'Q', 'G', 'K', 'F', 'C', 'E', 'S', 'E', 'F', 'L', 'V', 'T', 'H', 'L', 'N', 'S', 'L', 'T', 'N', 'T', 'N', 'Q', 'L', 'A', 'V', 'W', 'A', 'L', 'P', 'C', 'G', 'N', 'F', 'Y', 'L', 'R', 'I', 'S', 'R', 'G', 'A', 'N', 'V', 'L', 'P', 'Y', 'R', 'P', 'G', 'P', 'P', 'Y', 'D', 'L', 'C', 'D', 'G', 'P', 'G', 'L', 'A', 'V', 'I', 'N', 'L', 'L', 'D', 'A', 'V', 'R', 'R', 'L', 'A', 'Y', 'Y', 'P', 'S', 'S', 'P', 'I', 'A', 'V', 'Y', 'G', 'A', 'A', 'N', 'Q', 'L', 'M', 'G', 'D', 'T', 'A', 'K', 'S', 'R', 'T', 'A', 'R', 'K', 'L', 'L', 'R', 'T', 'G', 'N', 'P', 'L', 'Y', 'R', 'R', 'S', 'C', 'I', 'R', 'R', 'V', 'G', 'P', 'A', 'S', 'R', 'L', 'A', 'V', 'G', 'L', 'I', 'T', 'L', 'T', 'L', 'T', 'L', 'T', 'C', 'S', 'T', 'Y', 'G', 'G', 'C', 'S', 'L', 'S', 'H', 'L', 'G', 'R', 'D', 'P', 'G', 'S', 'R', 'T', 'T', 'D', 'K', 'C', 'C', 'Q', 'S', 'T', 'A', 'V', 'S', 'F', 'V', 'I', 'M', 'M', 'G', 'H', 'L', 'E', 'S', 'D', 'T', 'A', 'E', 'T', 'L', 'I', 'R', 'E', 'M', 'E', 'P', 'I', 'Y', 'I', 'W', 'D', 'I', 'Q', 'K', 'M', 'V', 'D', 'R', 'I', 'S', 'V', 'T', 'G', 'V', 'V', 'T', 'L', 'Q', 'F', 'L', 'R', 'I', 'G', 'G', 'N', 'M', 'K', 'L', 'P', 'G', 'P', 'R', 'W', 'G', 'L', 'S', 'N', 'R', 'R', 'A', 'L', 'C', 'T', 'Y', 'G', 'A', 'D', 'N', 'R', 'P', 'T', 'N', 'L', 'V', 'V', 'P', 'L', 'T', 'Y', 'L', 'L', 'A', 'L', 'P', 'H', 'V', 'E', 'T', 'L', 'K', 'R', 'R', 'L', 'V', 'K', 'T', 'R', 'K', 'C', 'G', 'P', 'L', 'R', 'S', 'C', 'T', 'T', 'P', 'Q', 'K', 'R', 'R', 'S', 'S', 'P', 'L', 'I', 'H', 'A', 'F', 'R', 'R', 'H', 'C', 'H', 'L', 'L', 'Q', 'E', 'V', 'E', 'T', 'L', 'V', 'H', 'L', 'V', 'A', 'V', 'R', 'I', 'S', 'I', 'P', 'V', 'L', 'I', 'L', 'L', 'G', 'D', 'G', 'F', 'R', 'R', 'R', 'D', 'G', 'V', 'F', 'F', 'F', 'H', 'Q', 'S', 'T', 'L', 'I', 'A', 'A', 'S', 'A', 'T', 'I', 'N', 'K', 'Q', 'V', 'R', 'R', 'L', 'R', 'P', 'D', 'A', 'C', 'W', 'F', 'D', 'T', 'V', 'P', 'N', 'K', 'L', 'G', 'H', 'T', 'R', 'K', 'Y', 'E', 'T', 'A', 'V', 'K', 'I', 'F', 'V', 'R', 'Q', 'I', 'K', 'F', 'S', 'V', 'W', 'A', 'V', 'N', 'V', 'I', 'S', 'C', 'D', 'S', 'P', 'D', 'R', 'K', 'L', 'D', 'G', 'G', 'I', 'H', 'S', 'L', 'L', 'P', 'A', 'A', 'L', 'S', 'R', 'T', 'S', 'N', 'S', 'G', 'T', 'S', 'C', 'A', 'G', 'H', 'H', 'G', 'D', 'G', 'G', 'S', 'F', 'R', 'I', 'F', 'G', 'L', 'S', 'S', 'R', 'S', 'S', 'N', 'L', 'V', 'V', 'K', 'P', 'R', 'A', 'L', 'L', 'L', 'E', 'I', 'S', 'F', 'F', 'R', 'T', 'W', 'R', 'H', 'L', 'I', 'L', 'S', 'D', 'C', 'S', 'I', 'S', 'M', 'T', 'V', 'E', 'A', 'T', 'P', 'N', 'I', 'F', 'H', 'Y', 'L', 'D', 'V', 'V', 'K', 'T', 'W', 'C', 'R', 'F', 'Q', 'D', 'P', 'P', 'S', 'L', 'L', 'V', 'S', 'E', 'H', 'A', 'S', 'V', 'Y', 'E', 'A', 'S', 'V', 'Q', 'I', 'Q', 'L', 'L', 'I', 'Q', 'K', 'G', 'V', 'R', 'A', 'I', 'L', 'T', 'V', 'D', 'F', 'A', 'V', 'R', 'T', 'K', 'V', 'N', 'K', 'P', 'F', 'A', 'W', 'K', 'R', 'P', 'P', 'Y', 'P', 'Y', 'G', 'I', 'K', 'P', 'G', 'C', 'M', 'D', 'F', 'P', 'M', 'S', 'M', 'G', 'L', 'S', 'M', 'V', 'S', 'C', 'C', 'S', 'L', 'L', 'I', 'K', 'G', 'S', 'L', 'T', 'S', 'A', 'R', 'I', 'L', 'L', 'S', 'P', 'L', 'D', 'S', 'V', 'R', 'M', 'L', 'D', 'N', 'S', 'N', 'W', 'S', 'R', 'L', 'A', 'R', 'L', 'Y', 'S', 'V', 'I', 'E', 'I', 'N', 'M', 'K', 'I', 'G', 'V', 'S', 'S', 'Q', 'S', 'F', 'L', 'G', 'S', 'H', 'P', 'Q', 'G', 'R', 'I', 'Y', 'S', 'L', 'G', 'C', 'A', 'T', 'G', 'S', 'A', 'K', 'G', 'R', 'T', 'S', 'N', 'V', 'E', 'V', 'R', 'G', 'P', 'V', 'T', 'E', 'P', 'Q', 'R', 'T', 'L', 'H', 'I', 'A', 'G', 'E', 'E', 'D', 'F', 'I', 'S', 'V', 'S', 'S', 'S', 'V', 'D', 'P', 'L', 'V', 'V', 'A', 'T', 'N', 'Y', 'L', 'V', 'S', 'S', 'K', 'I', 'R', 'G', 'D', 'K', 'C', 'D', 'G', 'S', 'S', 'R', 'A', 'F', 'E', 'G', 'Q', 'W', 'I', 'A', 'M', 'S', 'A', 'S', 'A', 'A', 'V', 'C', 'K', 'I', 'A', 'V', 'L', 'V', 'P', 'W', 'G', 'M', 'V', 'R', 'E', 'R', 'F', 'Y', 'V', 'A', 'Y', 'Y', 'L', 'E', 'K', 'G', 'H', 'A', 'V', 'G', 'F', 'P', 'N', 'I', 'W', 'Q', 'P', 'N', 'S', 'L', 'M', 'A', 'S', 'P', 'P', 'G', 'A', 'S', 'S', 'A', 'M', 'S', 'V', 'L', 'L', 'S', 'C', 'P', 'L', 'V', 'I', 'H', 'Y', 'K', 'A', 'L', 'D', 'N', 'G', 'P', 'H', 'Y', 'R', 'S', 'D', 'Y', 'G', 'R', 'L', 'R', 'K', 'P', 'W', 'L', 'H', 'N', 'I', 'E', 'G', 'G', 'K', 'P', 'C', 'C', 'H', 'S', 'R', 'D', 'Y', 'G', 'G', 'S', 'R', 'N', 'S', 'L', 'L', 'S', 'K', 'Y', 'A', 'I', 'S', 'N', 'W', 'P', 'D', 'S', 'I', 'T', 'Y', 'I', 'Q', 'V', 'E', 'K', 'N', 'S', 'R', 'P', 'H', 'S', 'A', 'S', 'N', 'R', 'Q', 'N', 'R', 'F', 'W', 'Y', 'L', 'T', 'V', 'Y', 'V', 'Y', 'R', 'R', 'P', 'S', 'V', 'P', 'L', 'E', 'V', 'T', 'A', 'L', 'S', 'R', 'L', 'G', 'T', 'R', 'G', 'N', 'L', 'H', 'L', 'V', 'G', 'A', 'S', 'I', 'R', 'S', 'A', 'L', 'S', 'S', 'Y', 'L', 'R', 'N', 'P', 'C', 'A', 'S', 'A', 'H', 'S', 'I', 'L', 'Y', 'P', 'P', 'G', 'V', 'P', 'I', 'A', 'L', 'L', 'K', 'D', 'A', 'P', 'I', 'G', 'L', 'F', 'M', 'W', 'H', 'C', 'M', 'I', 'E', 'P', 'C', 'T', 'R', 'S', 'F', 'T', 'R', 'T', 'Y', 'R', 'P', 'R', 'P', 'S', 'Y', 'Q', 'A', 'A', 'C', 'P', 'V', 'L', 'A', 'I', 'A', 'V', 'S', 'G', 'P', 'P', 'E', 'S', 'V', 'L', 'I', 'A', 'D', 'N', 'Y', 'V', 'F', 'A', 'T', 'V', 'S', 'P', 'Q', 'R', 'Y', 'S', 'L', 'V', 'T', 'V', 'T', 'G', 'A', 'D', 'R', 'I', 'T', 'L', 'R', 'C', 'T', 'P', 'S', 'S', 'T', 'V', 'Y', 'L', 'R', 'K', 'W', 'A', 'W', 'W', 'T', 'A', 'S', 'S', 'P', 'L', 'G', 'G', 'F', 'M', 'R', 'Q', 'Q', 'G', 'F', 'R', 'H', 'G', 'L', 'I', 'T', 'W', 'A', 'I', 'I', 'T', 'T', 'G', 'R', 'L', 'C', 'A', 'V', 'W', 'T', 'T', 'A', 'L', 'R', 'T', 'G', 'A', 'G', 'A', 'S', 'G', 'D', 'L', 'E', 'G', 'D', 'E', 'M', 'M', 'H', 'I', 'H', 'R', 'K', 'Q', 'H', 'C', 'C', 'Y', 'S', 'G', 'A', 'I', 'S', 'S', 'P', 'L', 'S', 'L', 'C', 'K', 'S', 'R', 'R', 'L', 'L', 'P', 'M', 'R', 'V', 'G', 'E', 'L', 'S', 'Y', 'E', 'P', 'S', 'L', 'H', 'N', 'E', 'V', 'R', 'T', 'S', 'D', 'S', 'S', 'T', 'Y', 'E', 'H', 'S', 'L', 'V', 'E', 'I', 'N', 'W', 'L', 'G', 'D', 'F', 'F', 'F', 'I', 'N', 'L', 'D', 'V', 'Q', 'R', 'G', 'H', 'G', 'S', 'S', 'Y', 'P', 'L', 'S', 'R', 'F', 'P', 'E', 'L', 'I', 'L', 'I', 'A', 'P', 'V', 'R', 'R', 'A', 'F', 'Q', 'F', 'N', 'N', 'H', 'D', 'C', 'S', 'S', 'S', 'S', 'I', 'P', 'V', 'C', 'D', 'V', 'F', 'K', 'L', 'S', 'Y', 'G', 'V', 'K', 'T', 'L', 'V', 'G', 'L', 'R', 'T', 'H', 'C', 'L', 'P', 'R', 'L', 'D', 'T', 'I', 'S', 'A', 'D', 'P', 'E', 'A', 'G', 'T', 'I', 'Y', 'N', 'T', 'S', 'G', 'F', 'G', 'R', 'M', 'V', 'E', 'Q', 'F', 'S', 'L', 'L', 'G', 'S', 'N', 'S', 'E', 'S', 'T', 'V', 'F', 'T', 'R', 'M', 'D', 'L', 'R', 'W', 'P', 'L', 'R', 'V', 'P', 'L', 'E', 'I', 'N', 'Y', 'I', 'I', 'R', 'C', 'K', 'K', 'M', 'S', 'H', 'R', 'P', 'V', 'A', 'S', 'I', 'L', 'M', 'G', 'D', 'D', 'T', 'S', 'A', 'P', 'G', 'L', 'W', 'L', 'M', 'G', 'K', 'G', 'R', 'R', 'I', 'K', 'G', 'A', 'G', 'S', 'I', 'S', 'P', 'P', 'P', 'H', 'V', 'W', 'R', 'R', 'K', 'N', 'S', 'A', 'V', 'G', 'G', 'Q', 'P', 'C', 'S', 'Y', 'F', 'W', 'Y', 'E', 'A', 'S', 'S', 'G', 'R', 'A', 'V', 'N', 'L', 'S', 'N', 'Q', 'C', 'E', 'L', 'I', 'R', 'N', 'D', 'I', 'Q', 'H', 'G', 'I', 'E', 'S', 'P', 'H', 'Y', 'R', 'S', 'Y', 'S', 'D', 'Y', 'E', 'N', 'F', 'R', 'Q', 'R', 'Q', 'T', 'R', 'L', 'S', 'K', 'L', 'M', 'P', 'L', 'V', 'S', 'F', 'I', 'D', 'A', 'A', 'V', 'C', 'S', 'L', 'S', 'I', 'C', 'P', 'L', 'L', 'W', 'R', 'T', 'I', 'T', 'R', 'R', 'I', 'I', 'R', 'G', 'T', 'S', 'C', 'N', 'R', 'N', 'H', 'N', 'G', 'R', 'D', 'I', 'R', 'S', 'R', 'E', 'S', 'I', 'R', 'I', 'P', 'W', 'V', 'F', 'Y', 'G', 'V', 'V', 'T', 'P', 'I', 'N', 'Q', 'P', 'H', 'R', 'G', 'V', 'F', 'I', 'P', 'Y', 'K', 'S', 'Q', 'E', 'L', 'C', 'F', 'M', 'E', 'R', 'T', 'R', 'R', 'R', 'F', 'P', 'S', 'T', 'R', 'T', 'D', 'G', 'G', 'S', 'L', 'P', 'C', 'I', 'T', 'Y', 'P', 'G', 'S', 'N', 'I', 'T', 'N', 'S', 'I', 'L', 'H', 'R', 'Y', 'S', 'S', 'Q', 'R', 'R', 'L', 'R', 'Q', 'L', 'G', 'P', 'V', 'K', 'A', 'L', 'S', 'L', 'G', 'V', 'Y', 'D', 'C', 'H', 'L', 'T', 'S', 'P', 'M', 'T', 'V', 'V', 'R', 'A', 'L', 'R', 'V', 'K', 'A', 'N', 'E', 'H', 'F', 'L', 'W', 'H', 'S', 'L', 'G', 'T', 'S', 'I', 'T', 'I', 'V', 'N', 'V', 'L', 'E', 'V', 'Q', 'R', 'L', 'D', 'V', 'V', 'A', 'R', 'Y', 'L', 'A', 'C', 'W', 'V', 'T', 'Q', 'V', 'I', 'C', 'V', 'G', 'E', 'M', 'R', 'D', 'N', 'K', 'P', 'Q', 'V', 'G', 'A', 'R', 'R', 'A', 'V', 'I', 'L', 'E', 'Y', 'V', 'L', 'R', 'R', 'P', 'T', 'T', 'S', 'P', 'P', 'Y', 'N', 'C', 'L', 'H', 'E', 'V', 'R', 'V', 'Y', 'R', 'C', 'L', 'S', 'C', 'S', 'M', 'V', 'F', 'L', 'Y', 'R', 'G', 'R', 'L', 'Q', 'S', 'G', 'G', 'E', 'L', 'H', 'H', 'N', 'L', 'R', 'P', 'E', 'G', 'R', 'G', 'R', 'A', 'I', 'A', 'E', 'Q', 'D', 'E', 'S', 'R', 'K', 'F', 'G', 'L', 'L', 'G', 'P', 'V', 'S', 'P', 'R', 'L', 'L', 'L', 'T', 'G', 'W', 'R', 'S', 'V', 'P', 'K', 'C', 'K', 'S', 'E', 'A', 'L', 'S', 'K', 'L', 'Y', 'N', 'T', 'P', 'D', 'S', 'V', 'G', 'T', 'A', 'P', 'Q', 'S', 'Y', 'Q', 'S', 'D', 'R', 'C', 'N', 'C', 'W', 'G', 'F', 'G', 'H', 'A', 'C', 'L', 'L', 'C', 'P', 'L', 'R', 'P', 'N', 'A', 'R', 'A', 'P', 'A', 'G', 'G', 'S', 'A', 'Q', 'G', 'S', 'C', 'R', 'G', 'K', 'V', 'Y', 'D', 'V', 'V', 'N', 'L', 'H', 'D', 'A', 'L', 'T', 'L', 'L', 'Q', 'L', 'V', 'S', 'L', 'T', 'H', 'N', 'Y', 'G', 'I', 'F', 'F', 'R', 'S', 'L', 'D', 'R', 'I', 'E', 'C', 'H', 'R', 'R', 'W', 'W', 'N', 'G', 'I', 'R', 'R', 'N', 'Y', 'R', 'S', 'H', 'H', 'V', 'H', 'Y', 'D', 'S', 'R', 'V', 'W', 'S', 'D', 'G', 'H', 'A', 'R', 'P', 'R', 'Y', 'S', 'K', 'R', 'W', 'V', 'P', 'Q', 'D', 'N', 'V', 'P', 'A', 'L', 'H', 'A', 'H', 'G', 'S', 'A', 'T', 'S', 'V', 'Q', 'R', 'A', 'Q', 'L', 'K', 'F', 'R', 'N', 'F', 'L', 'N', 'R', 'G', 'N', 'G', 'V', 'P', 'E', 'R', 'I', 'S', 'P', 'S', 'C', 'Q', 'S', 'R', 'P', 'N', 'L', 'P', 'R', 'I', 'F', 'G', 'A', 'L', 'L', 'V', 'G', 'N', 'L', 'F', 'V', 'G', 'L', 'E', 'P', 'R', 'E', 'L', 'E', 'P', 'C', 'P', 'E', 'R', 'N', 'P', 'D', 'S', 'R', 'T', 'I', 'L', 'F', 'G', 'M', 'V', 'N', 'C', 'S', 'V', 'K', 'T', 'H', 'L', 'V', 'R', 'A', 'L', 'L', 'C', 'P', 'G', 'T', 'R', 'Y', 'S', 'S', 'R', 'T', 'S', 'K', 'M', 'V', 'S', 'V', 'L', 'Y', 'L', 'L', 'T', 'L', 'P', 'A', 'D', 'H', 'L', 'G', 'S', 'P', 'R', 'N', 'T', 'N', 'Q', 'Y', 'S', 'R', 'G', 'R', 'S', 'P', 'T', 'E', 'S', 'L', 'T', 'C', 'K', 'R', 'S', 'L', 'T', 'R', 'I', 'R', 'R', 'R', 'F', 'I', 'S', 'H', 'W', 'T', 'P', 'H', 'A', 'L', 'N', 'F', 'V', 'F', 'E', 'L', 'F', 'G', 'I', 'K', 'L', 'T', 'Q', 'T', 'A', 'Q', 'Y', 'P', 'R', 'L', 'I', 'L', 'R', 'S', 'T', 'W', 'P', 'Y', 'V', 'P', 'A', 'C', 'T', 'N', 'R', 'H', 'R', 'V', 'Y', 'P', 'E', 'C', 'Y', 'A', 'E', 'Q', 'A', 'A', 'G', 'C', 'G', 'T', 'R', 'R', 'C', 'C', 'W', 'C', 'P', 'F', 'P', 'A', 'P', 'V', 'Q', 'R', 'R', 'V', 'P', 'T', 'T', 'T', 'A', 'T', 'G', 'V', 'L', 'S', 'A', 'L', 'E', 'P', 'N', 'P', 'H', 'M', 'E', 'T', 'A', 'G', 'T', 'D', 'L', 'N', 'H', 'R', 'S', 'G', 'V', 'S', 'P', 'R', 'F', 'I', 'S', 'W', 'T', 'E', 'T', 'E', 'S', 'E', 'S', 'L', 'R', 'V', 'G', 'V', 'Y', 'A', 'T', 'R', 'D', 'G', 'L', 'L', 'C', 'V', 'R', 'V', 'L', 'R', 'G', 'I', 'Q', 'V', 'G', 'I', 'M', 'R', 'V', 'Y', 'V', 'T', 'P', 'R', 'T', 'A', 'V', 'S', 'K', 'R', 'R', 'I', 'S', 'M', 'C', 'T', 'F', 'H', 'R', 'P', 'S', 'L', 'L', 'S', 'W', 'G', 'R', 'T', 'F', 'N', 'L', 'S', 'M', 'A', 'A', 'M', 'I', 'F', 'V', 'Y', 'P', 'P', 'G', 'V', 'T', 'S', 'V', 'G', 'S', 'H', 'E', 'N', 'S', 'P', 'R', 'S', 'L', 'S', 'A', 'K', 'W', 'F', 'L', 'L', 'C', 'V', 'K', 'E', 'T', 'Y', 'N', 'E', 'G', 'T', 'S', 'G', 'R', 'D', 'R', 'T', 'R', 'I', 'I', 'M', 'I', 'G', 'Y', 'R', 'S', 'S', 'N', 'N', 'H', 'F', 'T', 'P', 'F', 'Q', 'T', 'M', 'S', 'L', 'E', 'Q', 'T', 'S', 'T', 'Q', 'K', 'W', 'C', 'E', 'V', 'S', 'N', 'S', 'I', 'S', 'R', 'R', 'A', 'C', 'T', 'S', 'P', 'C', 'A', 'T', 'R', 'L', 'E', 'R', 'N', 'K', 'Q', 'N', 'A', 'I', 'I', 'G', 'I', 'Y', 'L', 'M', 'R', 'Q', 'T', 'A', 'L', 'T', 'R', 'C', 'P', 'S', 'R', 'D', 'C', 'P', 'S', 'A', 'P', 'A', 'Y', 'L', 'C', 'V', 'T', 'H', 'K', 'P', 'R', 'S', 'P', 'C', 'Q', 'L', 'T', 'L', 'G', 'L', 'L', 'A', 'L', 'R', 'L', 'S', 'G', 'E', 'S', 'L', 'R', 'L', 'Y', 'F', 'E', 'S', 'S', 'I', 'R', 'P', 'L', 'S', 'T', 'T', 'P', 'Y', 'L', 'G', 'G', 'C', 'S', 'Q', 'S', 'G', 'V', 'V', 'S', 'I', 'R', 'H', 'L', 'Y', 'R', 'G', 'P', 'E', 'R', 'P', 'Q', 'L', 'N', 'Y', 'M', 'L', 'G', 'A', 'V', 'S', 'G', 'H', 'S', 'V', 'T', 'F']\n"
     ]
    }
   ],
   "source": [
    "def protein (rna):\n",
    "    codon = \"\"\n",
    "    protein = []\n",
    "    for i in range(0, len(rna) - 3, 3):\n",
    "        codon = rna[i:i+3]\n",
    "        if (codon == \"UUU\" or codon == \"UUC\"):\n",
    "            protein.append(\"F\")\n",
    "        elif (codon == \"UUA\" or codon == \"UUG\"):\n",
    "            protein.append(\"L\")\n",
    "        elif (codon == \"UCU\" or codon == \"UCC\" or codon == \"UCA\" or codon == \"UCG\"):\n",
    "            protein.append(\"S\")\n",
    "        elif (codon == \"UAU\" or codon == \"UAC\"):\n",
    "            protein.append(\"Y\")\n",
    "        elif (codon == \"UAA\" or codon == \"UAG\" or codon == \"UGA\"):\n",
    "            break\n",
    "        elif (codon == \"UGU\" or codon == \"UGC\"):\n",
    "            protein.append(\"C\")\n",
    "        elif (codon == \"UGG\"):\n",
    "            protein.append(\"W\")\n",
    "        elif (codon == \"CUU\" or codon == \"CUC\" or codon == \"CUA\" or codon == \"CUG\"):\n",
    "            protein.append(\"L\")\n",
    "        elif (codon == \"CCU\" or codon == \"CCC\" or codon == \"CCA\" or codon == \"CCG\"):\n",
    "            protein.append(\"P\")\n",
    "        elif (codon == \"CAU\" or codon == \"CAC\"):\n",
    "            protein.append(\"H\")\n",
    "        elif (codon == \"CAA\" or codon == \"CAG\"):\n",
    "            protein.append(\"Q\")\n",
    "        elif (codon == \"CGU\" or codon == \"CGC\" or codon == \"CGA\" or codon == \"CGG\" or codon == \"AGA\" or codon == \"AGG\"):\n",
    "            protein.append(\"R\")\n",
    "        elif (codon == \"AUU\" or codon == \"AUC\" or codon == \"AUA\"):\n",
    "            protein.append(\"I\")\n",
    "        elif (codon == \"AUG\"):\n",
    "            protein.append(\"M\")\n",
    "        elif (codon == \"ACU\" or codon == \"ACC\" or codon == \"ACA\" or codon == \"ACG\"):\n",
    "            protein.append(\"T\")\n",
    "        elif (codon == \"AAU\" or codon == \"AAC\"):\n",
    "            protein.append(\"N\")\n",
    "        elif (codon == \"AAA\" or codon == \"AAG\"):\n",
    "            protein.append(\"K\")\n",
    "        elif (codon == \"AGU\" or codon == \"AGC\"):\n",
    "            protein.append(\"S\")\n",
    "        elif (codon == \"GUU\" or codon == \"GUC\" or codon == \"GUA\" or codon == \"GUG\"):\n",
    "            protein.append(\"V\")\n",
    "        elif (codon == \"GCU\" or codon == \"GCC\" or codon == \"GCA\" or codon == \"GCG\"):\n",
    "            protein.append(\"A\")\n",
    "        elif (codon == \"GAU\" or codon == \"GAC\"):\n",
    "            protein.append(\"D\")\n",
    "        elif (codon == \"GAA\" or codon == \"GAG\"):\n",
    "            protein.append(\"E\")\n",
    "        elif (codon == \"GGU\" or codon == \"GGC\" or codon == \"GGA\" or codon == \"GGG\"):\n",
    "            protein.append(\"G\")\n",
    "    return protein\n",
    "\n",
    "print(protein(\"AUGGACGUACCGGACACUUGGCAAGGUUACACACAAGAUCGAUAUUUGCGCCCCCACGUCACACCUAAUAUGCUCCCAACUACACCCAGUGCGUGCGUAGGUCAGGAGCUAAAAGAGUACUCCAUCAAGCCCAGUGAGCGCCGGAGAGGUAGAGUAAUGACGGUCAGACGUGGAGGGCGCAAGAUGUCAUACUUUUCCCCAGAGACAUACAUGCCAUUCUGGGUCCAAACGUGUCGACUGUAUCUCCUUAGUGCCGUGAUAUCCCUUAGGCCCGCAUUUGGGACCUCAGGUAAUGACGCUCACCGGGACAGCUUCAUUCGGACUCCGUCAUUUUCGAAUCCACUGAUGGGAGAGGAAACCGACGACCGAAGCUCGCAAAAUCUGUUACCGACCAAAUCCUGGGCCGCAAAAAUUCUGUCAUCUGCAUGGGCGUGGCAGGCGACCACACUCCGUCCACACAGAUAUGGGCAUCCUCAACAAUGUCCAGUGAUUCCUGACAAGACGCCUAUUCUCCUGUCCGUUCAACUUCGUGAAGUUUUACGUAUAUUGGUUAAAGGGACGGUCGAGCCCCGCGAGAUUUUAUUUAGGAUGGCCCAAGUGGAUGGCCCUGGCGUAUGUCGUUUCACUUACGACAAUCGUACGGUGCGCCUUCCAACCGAGAGCAUCUGGGUAUAUGUCUGCAGCGCCUGUAAAGAGGGGGCCCCGGCCACCAACGGGCUGACCGAUUGUUCACGCAACCAUUUCCAGGAACACGGAGAACAAAGAUUCUGUGCACAUGUGCACCAUGGAAGACAGCGUGCGCGGUCUAUGGCCGUGCUGCUAUGCUAUUUAAGGGAUUCCAUCGCUUCGAACCUUAGUCACAGCACAACCUAUUGCAGUACAAGGAUAUUCAGAAAUCAAUCUGAGAUAUUGUUAACCGUUUCCUCUCCCGCAGUCACGCAUUUUUGUGUUAAGAAGUACUCCUCACUGCCCACCUGGGCGAUCGGGGGUUGCUGCCGUCAAGUAGUAGUGAUAACAGUACCGAAUGUUCAGACCGAUCUUGUGGUAGGUACAAUCGAGGACGUCACAAUGACCACAAAGGAAGCGAAACACCACCGAAGACGAGUUGCUCAUCAGACGGCGGUGUGUCGGCAUAUGCCAUCUGGGUACCGAGCGAAGAAGGUCUCAUUGUCCCAGGUAGACCAGUUUAGAGCUUGGAGACCCCGUAACCGAUUACAAUUGGCCACGACGACUGUAGUAUCUCGCCCAUCGCUAGCGCGCACUGAGUCCUCCGAAACUCGCGCUGGAAAAUCCAGUAGCUACUACACGACGGGGAUCCGCGUCGCGAACCGUGCACAUAUUGGGGUCACGGCUUUUCACUCGGGUCACCGCGGCUUCAAUAAAGACCUACCGGAUGUAGCCAGACCGACGAAAUCAGCCGGCGUGCUGAUGACUAGGACCUCCUCAGUCCAGGGGUGCGAUAACAGGCAUCCAGCUCUAACAGCGAGAUUUUUAGUAAGGUAUAAACCCGUAAUUCUUCGCACUUCUAGGAUGGCUCUCAGAAAUCAGCCCUCCAAUGUGGUUGUGUGUUCAAAGGUGUUUUGUCGUCUGCUUUAUAUAAUGUCAAGCAGGCAGCAGAGUCACCGCCAGCAUAAAGUUACGCCUUACGCGUAUGUGCCCACCACUAGUGGGCCCAGCUUUAGUCGGGGAGACCCCUCGAAAGGAUUAAGCAUGUUUCGCUGCCCGCGUUCGAUAGCCCCACGAAGCCUGGGCUCCAAUGCCGUGAAAAGCUUGAAGUCCGGGAGAGUGUUGAUGGAAGAACGACAUAUUCCAUGGAAUUUGUGUGUAUCCGUUCAGGGACCCCUAAUCCUAGAGUUUAGGAUAGUACUUGGCACAGAGGCUGAUAGAGCCAGCCGGUUGCAUUGGCCCGACCGGGGGCCGGAAUUGAUCUUACGUCAGGGAAUGCCGCAAGUAGAAACCCCUUCACCCCGAACAAGUCAAGGUGGAAGCAUGUCGACGACCCGUAAGGUGAACGUCAUCCACCCCAACACUCUGCCUACGGCCCGCACGGUUGUUCGGUUGCGUCUUGGAGGGUAUGGUCCGCACUCACAUUUCUUAUUGGAAGUUGUCUUGUCCUGGGUAGAUUGGAUCCGACUUCUGCCGCUGAUUAGACAGAGACUUCCGGUCCGCAGGAAGCUGUUAGACGCUACAGGUAACUGCUAUAUGACGCAUCUAAUCUGGAACAUAUUAGUGCCGGGUAGCUGUCCACAAGGUAAAUUCUGUGAGUCUGAGUUUCUUGUGACCCAUCUCAAUUCCUUAACCAAUACGAACCAACUUGCAGUAUGGGCCCUACCUUGCGGCAACUUUUACCUACGGAUAUCCCGAGGGGCUAAUGUUUUACCAUACCGUCCCGGGCCUCCAUACGAUCUGUGUGAUGGUCCAGGGCUAGCGGUCAUCAAUCUGCUGGAUGCGGUGCGCCGUCUCGCGUACUACCCAUCCAGCCCUAUUGCUGUAUACGGCGCCGCAAAUCAACUUAUGGGGGACACCGCGAAGUCCCGAACCGCGCGCAAGCUCCUUCGAACGGGAAACCCCCUUUAUCGGCGAAGUUGCAUCAGACGGGUUGGGCCCGCGUCGAGAUUGGCAGUGGGACUGAUCACCCUGACAUUGACCUUGACUUGUUCAACCUACGGCGGAUGCUCACUCAGCCACCUAGGAAGAGACCCAGGGUCCCGUACAACGGACAAAUGUUGCCAGAGCACAGCCGUAUCGUUCGUGAUUAUGAUGGGCCACCUAGAAAGCGAUACCGCGGAAACGCUUAUCCGAGAGAUGGAGCCGAUCUAUAUAUGGGAUAUUCAGAAAAUGGUGGAUCGAAUUUCGGUAACCGGGGUCGUUACAUUACAGUUCCUGCGAAUAGGAGGCAACAUGAAACUUCCUGGUCCACGCUGGGGUUUAUCCAACCGGCGAGCUCUGUGCACCUAUGGAGCUGAUAACAGGCCGACCAAUCUCGUUGUACCCCUAACGUAUCUGCUAGCAUUACCACAUGUUGAGACACUUAAGCGCCGCUUGGUCAAAACACGAAAAUGCGGUCCGCUGAGGUCAUGCACUACUCCUCAAAAACGUCGAAGCUCGCCGUUAAUUCAUGCAUUCCGACGUCAUUGCCACCUUUUACAAGAAGUUGAAACUUUAGUCCAUCUAGUCGCCGUUCGAAUCUCAAUCCCUGUCCUAAUCCUUCUGGGAGAUGGAUUUCGGAGGCGCGAUGGAGUGUUCUUUUUCCACCAAUCGACUCUAAUUGCGGCCUCGGCCACCAUAAAUAAGCAAGUCAGGCGACUUCGACCCGAUGCCUGCUGGUUUGACACCGUCCCGAAUAAGCUCGGUCACACACGGAAGUAUGAAACAGCGGUAAAAAUCUUUGUGCGACAGAUUAAAUUCAGCGUGUGGGCAGUGAAUGUAAUCUCUUGCGACUCCCCAGAUCGUAAAUUGGAUGGAGGAAUUCACUCCCUUCUACCGGCAGCCCUUUCAAGGACUAGCAACUCUGGGACUUCGUGCGCCGGUCAUCAUGGGGAUGGGGGUAGCUUUCGCAUUUUUGGGCUUUCCUCACGGAGUUCGAACCUAGUCGUCAAACCACGAGCGCUGCUACUAGAGAUAUCUUUUUUUCGCACGUGGCGUCAUCUCAUUCUGUCUGAUUGCUCUAUAAGCAUGACGGUAGAAGCAACCCCUAACAUAUUCCAUUAUCUCGAUGUAGUGAAGACGUGGUGUCGGUUUCAGGACCCCCCAUCCCUUCUGGUAAGCGAGCACGCCUCCGUGUAUGAGGCGAGUGUUCAAAUACAAUUGUUAAUACAGAAGGGAGUCCGGGCGAUACUAACCGUAGAUUUCGCCGUUCGGACAAAGGUGAACAAGCCAUUUGCAUGGAAGAGACCACCUUACCCGUAUGGCAUCAAGCCAGGCUGUAUGGACUUUCCGAUGAGCAUGGGCCUAUCUAUGGUUAGUUGUUGUUCUUUGCUCAUAAAAGGCAGUCUUACUUCCGCUAGGAUCCUUUUGUCACCCCUGGACUCAGUAAGAAUGCUAGAUAAUAGCAAUUGGAGCCGAUUAGCUCGGCUGUACAGUGUGAUCGAAAUCAACAUGAAAAUCGGAGUCUCGUCUCAGAGCUUUUUGGGCAGCCAUCCACAGGGCAGAAUUUAUUCACUCGGAUGCGCUACAGGCUCAGCAAAGGGUCGGACUUCCAAUGUAGAAGUCAGAGGUCCGGUUACUGAGCCACAGCGCACUCUUCACAUUGCAGGGGAGGAAGACUUUAUUUCUGUGUCGAGUUCCGUAGAUCCCUUAGUGGUUGCGACAAAUUAUCUUGUUUCGAGCAAGAUUCGUGGGGACAAAUGCGAUGGCUCGUCCAGAGCGUUCGAAGGUCAAUGGAUCGCUAUGUCUGCAUCGGCAGCCGUAUGCAAAAUCGCUGUACUAGUUCCCUGGGGGAUGGUACGCGAACGCUUCUAUGUCGCAUAUUACCUCGAAAAAGGGCAUGCAGUCGGUUUCCCUAAUAUUUGGCAACCUAACUCCCUCAUGGCAUCCCCGCCCGGUGCAUCAAGCGCCAUGAGUGUGUUAUUAAGUUGCCCACUAGUGAUUCAUUAUAAAGCACUCGAUAACGGUCCACACUACCGAUCUGACUAUGGUCGUUUACGAAAGCCUUGGUUGCAUAACAUAGAGGGCGGGAAGCCGUGUUGUCACAGUCGCGAUUAUGGUGGUUCAAGAAACUCUUUAUUAUCCAAAUACGCAAUAAGCAAUUGGCCGGACUCGAUCACCUACAUACAGGUAGAGAAGAAUUCAAGACCACAUUCUGCGUCAAACAGACAGAACCGCUUCUGGUAUCUCACCGUUUACGUGUACCGUCGACCGUCAGUGCCACUUGAGGUUACGGCCUUAAGCAGACUUGGUACACGUGGAAAUCUCCAUCUUGUCGGAGCGAGUAUACGCAGCGCACUAUCCAGUUACCUCCGUAAUCCUUGCGCGAGCGCGCAUUCCAUCCUUUACCCUCCCGGGGUCCCUAUAGCCCUACUUAAAGAUGCUCCCAUUGGCCUCUUUAUGUGGCACUGCAUGAUUGAGCCCUGCACGAGAAGCUUCACGCGUACGUACAGACCCCGUCCAUCCUACCAGGCUGCAUGCCCUGUCCUAGCGAUCGCCGUGAGUGGACCACCAGAGAGUGUUCUCAUUGCAGACAAUUAUGUGUUUGCUACCGUUAGUCCGCAAAGAUAUUCGUUGGUGACGGUGACGGGGGCUGAUCGUAUAACUUUGCGCUGCACACCCUCAUCUACUGUGUAUCUGCGAAAGUGGGCUUGGUGGACGGCAAGCUCUCCUCUGGGUGGUUUCAUGCGUCAACAGGGCUUUCGCCACGGCCUAAUAACUUGGGCUAUAAUUACGACAGGACGACUGUGCGCCGUAUGGACUACUGCGCUGAGAACGGGUGCCGGUGCAUCGGGAGAUCUUGAAGGAGAUGAGAUGAUGCAUAUCCACCGCAAACAACACUGUUGUUAUAGCGGCGCGAUUAGUUCCCCCCUGUCGUUGUGCAAAAGCAGGAGGCUGCUCCCGAUGCGAGUUGGGGAGCUUAGUUACGAGCCCUCUUUGCAUAAUGAAGUAAGAACCUCUGACUCUUCCACUUACGAACAUUCGCUUGUCGAGAUAAACUGGCUCGGAGACUUCUUUUUUAUCAAUCUGGACGUGCAGCGUGGUCAUGGGUCGAGUUAUCCACUUAGCCGCUUCCCUGAACUCAUUUUGAUCGCGCCGGUACGUCGAGCCUUUCAGUUCAACAACCAUGAUUGCUCCUCCUCCUCUAUACCGGUCUGCGACGUCUUCAAACUUAGUUAUGGGGUAAAAACACUGGUCGGCCUCCGGACUCACUGCCUGCCCCGUUUAGAUACUAUCUCUGCGGAUCCCGAAGCAGGUACAAUUUAUAAUACGAGUGGCUUUGGAAGGAUGGUCGAGCAAUUCUCACUAUUGGGUUCUAAUAGCGAAAGUACGGUAUUCACAAGAAUGGACUUAAGGUGGCCAUUGAGGGUUCCUCUGGAAAUUAAUUAUAUCAUUAGGUGCAAGAAGAUGAGUCAUCGACCAGUAGCAAGCAUUCUAAUGGGUGACGAUACAUCGGCCCCUGGGCUUUGGCUAAUGGGAAAAGGGAGGAGGAUUAAGGGUGCAGGAUCAAUCUCGCCUCCUCCGCACGUCUGGCGCCGGAAAAACUCUGCCGUCGGUGGGCAACCAUGCUCUUAUUUCUGGUAUGAGGCGUCGUCUGGUCGCGCGGUAAACCUCAGCAACCAGUGUGAACUAAUACGUAACGAUAUACAGCACGGUAUCGAGUCCCCUCACUACCGUUCCUACAGCGAUUAUGAAAACUUCCGACAGCGACAAACCCGAUUGUCCAAACUUAUGCCAUUAGUUUCUUUCAUCGAUGCGGCCGUAUGCUCCCUUAGUAUAUGCCCCCUAUUAUGGCGAACGAUUACACGGCGCAUCAUCCGAGGGACUAGCUGCAACAGGAAUCACAACGGCCGCGACAUACGUUCUCGCGAAAGUAUAAGGAUCCCAUGGGUGUUUUAUGGCGUGGUUACUCCCAUUAAUCAGCCACAUCGUGGUGUAUUCAUACCUUAUAAGUCCCAGGAGCUAUGCUUUAUGGAGAGGACUAGGCGGAGAUUCCCAAGUACGAGGACCGACGGAGGGUCCCUGCCAUGCAUCACUUAUCCUGGUUCUAACAUAACGAAUAGCAUUCUACAUAGAUACUCUAGUCAGAGACGUCUUCGCCAACUCGGUCCAGUGAAAGCUCUAUCAUUAGGGGUCUACGAUUGCCACCUAACAUCACCUAUGACCGUAGUGAGAGCACUGCGCGUGAAGGCUAAUGAGCAUUUCUUGUGGCAUUCCCUCGGAACAAGUAUAACGAUAGUGAACGUAUUGGAGGUGCAGAGGUUAGAUGUCGUAGCGCGGUACCUAGCCUGCUGGGUCACCCAGGUGAUCUGUGUCGGGGAGAUGAGGGACAAUAAGCCACAGGUCGGUGCUAGGCGUGCUGUCAUCCUAGAAUACGUAUUGCGUCGACCCACCACCUCACCACCCUACAACUGUCUACAUGAGGUACGCGUUUAUCGCUGUCUAUCCUGUAGCAUGGUAUUCUUGUAUAGGGGUCGUCUGCAAAGCGGUGGUGAGCUACAUCAUAACCUUCGGCCCGAGGGGAGGGGGAGGGCGAUCGCAGAGCAAGAUGAGUCACGGAAAUUUGGCCUACUUGGCCCAGUGAGUCCGCGCCUUCUGCUAACGGGAUGGAGAUCUGUUCCGAAAUGCAAAUCCGAGGCAUUGUCGAAACUUUAUAACACCCCAGACUCAGUGGGCACAGCACCUCAGUCCUAUCAAAGCGACAGGUGUAACUGUUGGGGUUUCGGCCAUGCUUGCCUGUUGUGCCCGCUACGCCCAAACGCACGGGCUCCCGCGGGGGGCUCUGCACAAGGAUCUUGUCGUGGCAAAGUAUACGACGUAGUGAAUUUGCAUGAUGCUCUAACUUUGCUGCAGCUCGUGAGUCUCACUCAUAACUACGGGAUAUUCUUUAGGAGUCUGGACCGAAUUGAAUGUCAUAGGCGGUGGUGGAACGGGAUUAGACGAAAUUAUAGGAGCCACCACGUUCAUUACGACUCUAGAGUCUGGAGCGAUGGACACGCGCGGCCUCGCUACAGUAAGCGUUGGGUACCGCAGGAUAAUGUUCCUGCUCUCCAUGCGCACGGCUCAGCGACUUCCGUGCAGCGAGCGCAGCUCAAAUUUAGGAAUUUUUUAAAUCGAGGUAACGGUGUGCCUGAACGAAUAUCACCAAGUUGUCAGUCGCGUCCAAAUCUCCCUAGGAUCUUUGGAGCGCUGUUAGUAGGAAAUCUCUUCGUAGGCCUCGAGCCUAGAGAACUCGAACCUUGCCCAGAGAGGAACCCAGACUCUAGGACAAUCUUGUUCGGUAUGGUAAACUGCUCGGUUAAAACCCAUUUAGUGCGCGCCCUGUUAUGUCCUGGAACGAGGUACUCAUCGCGUACAUCUAAGAUGGUUUCAGUCCUAUACUUGCUCACGCUCCCCGCGGACCAUCUUGGAUCUCCGCGAAAUACGAACCAGUAUUCCAGGGGUAGAUCUCCAACUGAAUCGCUUACGUGCAAAAGAAGCUUAACUCGGAUUCGGAGGCGUUUCAUUUCUCACUGGACCCCCCAUGCAUUAAAUUUUGUUUUUGAGCUCUUCGGUAUAAAGUUGACCCAGACAGCUCAAUAUCCCCGGCUUAUACUGCGAUCGACCUGGCCGUAUGUCCCCGCUUGCACGAAUCGCCACAGGGUAUACCCGGAGUGUUACGCUGAACAAGCUGCUGGAUGUGGUACCCGACGAUGCUGUUGGUGCCCUUUUCCCGCUCCGGUACAGCGUCGUGUUCCUACUACGACCGCGACAGGGGUGCUAUCUGCAUUGGAACCUAAUCCGCACAUGGAGACGGCUGGCACAGAUCUUAAUCAUCGUUCUGGCGUAUCUCCGCGGUUCAUCUCAUGGACGGAGACGGAAUCCGAAUCAUUAAGGGUUGGGGUGUACGCAACACGUGAUGGACUUUUGUGUGUUCGAGUAUUGAGGGGAAUUCAGGUAGGCAUCAUGCGUGUUUAUGUGACACCCAGGACUGCUGUUUCUAAACGGAGGAUCUCAAUGUGCACUUUUCAUAGACCAUCGCUCUUAUCCUGGGGAAGAACGUUUAACUUAAGUAUGGCAGCCAUGAUCUUUGUUUAUCCUCCUGGCGUGACGUCUGUAGGGUCACAUGAGAAUUCACCCCGCUCACUAUCGGCGAAAUGGUUCUUGCUCUGUGUUAAAGAGACAUACAAUGAAGGAACAUCUGGGCGUGACCGUACGAGAAUUAUAAUGAUAGGUUAUAGAUCUAGCAACAAUCAUUUUACCCCCUUCCAGACUAUGUCACUGGAGCAGACGUCCACACAGAAGUGGUGCGAGGUCAGUAACUCGAUUAGCCGCCGGGCAUGUACAAGUCCUUGUGCGACGCGGCUCGAGAGGAAUAAACAAAAUGCCAUCAUAGGUAUAUAUCUCAUGCGCCAGACAGCAUUAACCCGGUGUCCUUCACGUGAUUGCCCCAGCGCCCCCGCGUAUCUAUGUGUUACACACAAACCGAGAUCACCAUGCCAGUUGACACUUGGUUUACUUGCCUUGAGGUUAAGCGGCGAGUCUCUACGACUUUAUUUUGAAUCAAGCAUUCGGCCGCUGUCAACGACGCCCUACUUAGGCGGUUGCUCGCAAUCCGGCGUGGUUUCCAUUCGGCAUCUAUAUCGAGGUCCCGAACGGCCGCAGCUGAAUUACAUGCUAGGUGCUGUCUCUGGCCACAGUGUCACUUUUUAG\"))"
   ]
  },
  {
   "cell_type": "code",
   "execution_count": null,
   "metadata": {},
   "outputs": [],
   "source": []
  }
 ],
 "metadata": {
  "kernelspec": {
   "display_name": "Python 3",
   "language": "python",
   "name": "python3"
  },
  "language_info": {
   "codemirror_mode": {
    "name": "ipython",
    "version": 3
   },
   "file_extension": ".py",
   "mimetype": "text/x-python",
   "name": "python",
   "nbconvert_exporter": "python",
   "pygments_lexer": "ipython3",
   "version": "3.8.5"
  }
 },
 "nbformat": 4,
 "nbformat_minor": 4
}
