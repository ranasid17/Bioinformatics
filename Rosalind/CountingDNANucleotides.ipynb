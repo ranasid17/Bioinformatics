{
  "nbformat": 4,
  "nbformat_minor": 0,
  "metadata": {
    "colab": {
      "name": "CountingDNANucleotides.ipynb",
      "provenance": []
    },
    "kernelspec": {
      "name": "python3",
      "display_name": "Python 3"
    },
    "language_info": {
      "name": "python"
    }
  },
  "cells": [
    {
      "cell_type": "markdown",
      "metadata": {
        "id": "kssv7FCQvxt3"
      },
      "source": [
        "#Problem\n",
        "\n",
        "A string is simply an ordered collection of symbols selected from some alphabet and formed into a word; the length of a string is the number of symbols that it contains.\n",
        "\n",
        "An example of a length 21 DNA string (whose alphabet contains the symbols 'A', 'C', 'G', and 'T') is \"ATGCTTCAGAAAGGTCTTACG.\"\n",
        "\n",
        "**Given:** A DNA string **s** of length at most 1000 nt.\n",
        "**Return:** Four integers (separated by spaces) counting the respective number of times that the symbols 'A', 'C', 'G', and 'T' occur in **s**. \n",
        "\n",
        "**Sample Dataset**\n",
        "\n",
        "AGCTTTTCATTCTGACTGCAACGGGCAATATGTCTCTGTGTGGATTAAAAAAAGAGTGTCTGATAGCAGC\n",
        "\n",
        "**Sample Output**\n",
        "20 12 17 21"
      ]
    },
    {
      "cell_type": "code",
      "metadata": {
        "id": "wjlMYbaKxro-"
      },
      "source": [
        "import numpy as np \n",
        "\n",
        "def count_nucleotides(sequence):\n",
        "  len_sequence = len(sequence)  # store length of input DNA sequence\n",
        "  nucleotide_counts = np.zeros((4,1))  # initialize array to hold base counts\n",
        "  for i in range(len_sequence):  # iter across sequence \n",
        "    if sequence[i] == 'A':  # check curr nucleotide \n",
        "      nucleotide_counts[0] = nucleotide_counts[0] + 1  # incr count if match \n",
        "    elif sequence[i] == 'C': \n",
        "      nucleotide_counts[1] = nucleotide_counts[1] + 1\n",
        "    elif sequence[i] == 'G': \n",
        "      nucleotide_counts[2] = nucleotide_counts[2] + 1\n",
        "    elif sequence[i] == 'T': \n",
        "      nucleotide_counts[3] = nucleotide_counts[3] + 1\n",
        "  \n",
        "  return nucleotide_counts\n"
      ],
      "execution_count": 35,
      "outputs": []
    },
    {
      "cell_type": "code",
      "metadata": {
        "colab": {
          "base_uri": "https://localhost:8080/"
        },
        "id": "9SPRdCfY-47R",
        "outputId": "deec4184-4458-496f-c795-bbce8b6549a4"
      },
      "source": [
        "DNA = input('Type or paste sequence here: ')\n",
        "counts = count_nucleotides(DNA)\n",
        "print(counts)"
      ],
      "execution_count": 36,
      "outputs": [
        {
          "output_type": "stream",
          "name": "stdout",
          "text": [
            "Type or paste sequence here: CAGTCGCCCACGGAGGCGATGGCCGAGCGGAGGGCGGTATGCCCGTCTCGCGGTGAAAGCCGTGAAGTAGGATTAGACGCAGCAGCACGTCGCCCACGGCTTGTGGTAGCCTGCTCCCGCCACAATCACCACGGATGACCGCGAGGCTCCCTACTGAAAGGTGTCCCCTACGGTTCTCCGGTTCCCCACCCCAAGTCTCGAAAATGAGAATAAGAGTGAACCTGCTGCGCAACTCTGCGACAGGAAAAATATAAATTTTAATTCATGGAGTCTCCGAGTGTGCAACGATGAGTTCTGGATGGGAGCGAGACATTATGGGAATTATTAATTGGTCGGCCCCAGTATAGGTGCTTGGCGGATATCAAACTTTGTACGTAGCAGCAACGTTTTCTGATCTTCTACAAATCTGAACGGCGCCAGTGCCATCATGTGGTGTTTGAAGTTAATAATTCTCACGTTATAGGGCACCTCGGAGAAGGCCTGCAATAATCATAGCAAAATCATGCTCGAGTGGGGGATTTGGGCTTCTGCGAATACGCTGGTCCATACAACGTAACTACTGAACCTGGGAGTTTTTTCAAGGGCGCGGACGTAATTGACTTCAAGCGCAACGAACAATTTAAGTCTAACTCCACCCCCGACCTGTGAATCAATTCATTGCCTCAGACTACCTAATAACTCTTCTGCCCTAGGAGAACTTACGGTCTGGGCGCACGCATCTGGGGGGAGTGAAACTCTGGCGCCTGGAGCTAGCGAGGAACGTAGCGGTCACCAGCTTAGGGACATGGCCTATACCGGGCTTGCGCTTAGCGAGGCGGAAGGGTGGTTGACACATGGATCTAATAGTGCCGGTTCATGCGTCGGGCGATGTGATTAATTCTGAGCGCCGCTAGACGGGAAGGGACTCAGTCGAGAGCAATGACATGCAACCATCACTGCTTATTACGTGAGAAACCTC\n",
            "[[239.]\n",
            " [236.]\n",
            " [265.]\n",
            " [218.]]\n"
          ]
        }
      ]
    }
  ]
}